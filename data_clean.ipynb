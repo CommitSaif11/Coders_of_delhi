{
 "cells": [
  {
   "cell_type": "markdown",
   "id": "a92f889d",
   "metadata": {},
   "source": [
    "User ID 3 has an empty name.\n",
    "User ID 4 has a duplicate friend entry.\n",
    "User ID 5 has no connections or liked pages (inactive user).\n",
    "The pages list contains duplicate page IDs."
   ]
  },
  {
   "cell_type": "markdown",
   "id": "b26af4f7",
   "metadata": {},
   "source": [
    "Task 2: Clean the Data\n",
    "We will:\n",
    "\n",
    "Remove users with missing names.\n",
    "Remove duplicate friend entries.\n",
    "Remove inactive users (users with no friends and no liked pages).\n",
    "Deduplicate pages based on IDs."
   ]
  },
  {
   "cell_type": "code",
   "execution_count": 1,
   "id": "ceb209e5",
   "metadata": {},
   "outputs": [],
   "source": [
    "import json"
   ]
  },
  {
   "cell_type": "code",
   "execution_count": 3,
   "id": "fabf2c5a",
   "metadata": {},
   "outputs": [],
   "source": [
    "def clean_data(data):\n",
    "\n",
    "    #Removes user with no name\n",
    "    data[\"users\"]=[user for user in data[\"users\"] if user[\"name\"].strip()]\n",
    "\n",
    "    #Removes duplicate friends\n",
    "    for user in data[\"users\"]:\n",
    "        user[\"friends\"] = list(set(user[\"friends\"]))\n",
    "\n",
    "    # Remove inactive users\n",
    "    data[\"users\"] = [user for user in data[\"users\"] if user[\"friends\"] or user[\"liked_pages\"]]\n",
    "    \n",
    "    # Remove duplicate pages\n",
    "    unique_pages = {}\n",
    "    for page in data[\"pages\"]:\n",
    "        unique_pages[page[\"id\"]] = page\n",
    "    data[\"pages\"] = list(unique_pages.values())\n",
    "    \n",
    "    return data"
   ]
  },
  {
   "cell_type": "code",
   "execution_count": 8,
   "id": "51d6460d",
   "metadata": {},
   "outputs": [
    {
     "name": "stdout",
     "output_type": "stream",
     "text": [
      "Data cleaned and saved to data_cleaned.json\n"
     ]
    }
   ],
   "source": [
    "data = json.load(open(\"data2.json\"))\n",
    "data = clean_data(data)\n",
    "json.dump(data, open(\"data_cleaned.json\", \"w\"),indent=4)\n",
    "print(\"Data cleaned and saved to data_cleaned.json\")"
   ]
  }
 ],
 "metadata": {
  "kernelspec": {
   "display_name": "datascience",
   "language": "python",
   "name": "python3"
  },
  "language_info": {
   "codemirror_mode": {
    "name": "ipython",
    "version": 3
   },
   "file_extension": ".py",
   "mimetype": "text/x-python",
   "name": "python",
   "nbconvert_exporter": "python",
   "pygments_lexer": "ipython3",
   "version": "3.10.16"
  }
 },
 "nbformat": 4,
 "nbformat_minor": 5
}
