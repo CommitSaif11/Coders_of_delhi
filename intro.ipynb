{
 "cells": [
  {
   "cell_type": "markdown",
   "id": "8bd567b9",
   "metadata": {},
   "source": [
    "datascience named venv"
   ]
  },
  {
   "cell_type": "code",
   "execution_count": 10,
   "id": "263101dc",
   "metadata": {},
   "outputs": [],
   "source": [
    "import json\n"
   ]
  },
  {
   "cell_type": "code",
   "execution_count": 11,
   "id": "bb084665",
   "metadata": {},
   "outputs": [],
   "source": [
    "def data_read(data):\n",
    "    with open(data, 'r') as f:\n",
    "        data = json.load(f)\n",
    "    return data"
   ]
  },
  {
   "cell_type": "code",
   "execution_count": 12,
   "id": "7629cbcd",
   "metadata": {},
   "outputs": [],
   "source": [
    "data=data_read('data.json')"
   ]
  },
  {
   "cell_type": "code",
   "execution_count": 13,
   "id": "61e80ceb",
   "metadata": {},
   "outputs": [
    {
     "data": {
      "text/plain": [
       "{'users': [{'id': 1, 'name': 'Amit', 'friends': [2, 3], 'liked_pages': [101]},\n",
       "  {'id': 2, 'name': 'Priya', 'friends': [1, 4], 'liked_pages': [102]},\n",
       "  {'id': 3, 'name': 'Rahul', 'friends': [1], 'liked_pages': [101, 103]},\n",
       "  {'id': 4, 'name': 'Sara', 'friends': [2], 'liked_pages': [104]}],\n",
       " 'pages': [{'id': 101, 'name': 'Python Developers'},\n",
       "  {'id': 102, 'name': 'Data Science Enthusiasts'},\n",
       "  {'id': 103, 'name': 'AI & ML Community'},\n",
       "  {'id': 104, 'name': 'Web Dev Hub'}]}"
      ]
     },
     "execution_count": 13,
     "metadata": {},
     "output_type": "execute_result"
    }
   ],
   "source": [
    "data"
   ]
  },
  {
   "cell_type": "code",
   "execution_count": 20,
   "id": "e1e8e284",
   "metadata": {},
   "outputs": [],
   "source": [
    "def display_users(data):\n",
    "    print(\"users and their details like connections and liked pages\")\n",
    "    for user in data['users']:\n",
    "        print(f\"ID: {user['id']}  Name: {user['name']}   Connections: {user['friends']}  Liked Pages: {user['liked_pages']}\")\n",
    "    print(\"\\n pages details\\n\")\n",
    "    for page in data['pages']:\n",
    "        print(f\"page id:{page['id']} page name: {page['name']} \")\n",
    "            "
   ]
  },
  {
   "cell_type": "code",
   "execution_count": 21,
   "id": "5fd6b2d4",
   "metadata": {},
   "outputs": [
    {
     "name": "stdout",
     "output_type": "stream",
     "text": [
      "users and their details like connections and liked pages\n",
      "ID: 1  Name: Amit   Connections: [2, 3]  Liked Pages: [101]\n",
      "ID: 2  Name: Priya   Connections: [1, 4]  Liked Pages: [102]\n",
      "ID: 3  Name: Rahul   Connections: [1]  Liked Pages: [101, 103]\n",
      "ID: 4  Name: Sara   Connections: [2]  Liked Pages: [104]\n",
      "\n",
      " pages details\n",
      "\n",
      "page id:101 page name: Python Developers \n",
      "page id:102 page name: Data Science Enthusiasts \n",
      "page id:103 page name: AI & ML Community \n",
      "page id:104 page name: Web Dev Hub \n"
     ]
    }
   ],
   "source": [
    "display_users(data)"
   ]
  }
 ],
 "metadata": {
  "kernelspec": {
   "display_name": "datascience",
   "language": "python",
   "name": "python3"
  },
  "language_info": {
   "codemirror_mode": {
    "name": "ipython",
    "version": 3
   },
   "file_extension": ".py",
   "mimetype": "text/x-python",
   "name": "python",
   "nbconvert_exporter": "python",
   "pygments_lexer": "ipython3",
   "version": "3.10.16"
  }
 },
 "nbformat": 4,
 "nbformat_minor": 5
}
